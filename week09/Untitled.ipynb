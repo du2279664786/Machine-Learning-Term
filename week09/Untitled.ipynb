{
 "cells": [
  {
   "cell_type": "code",
   "execution_count": 7,
   "metadata": {},
   "outputs": [
    {
     "data": {
      "text/html": [
       "<div>\n",
       "<style scoped>\n",
       "    .dataframe tbody tr th:only-of-type {\n",
       "        vertical-align: middle;\n",
       "    }\n",
       "\n",
       "    .dataframe tbody tr th {\n",
       "        vertical-align: top;\n",
       "    }\n",
       "\n",
       "    .dataframe thead th {\n",
       "        text-align: right;\n",
       "    }\n",
       "</style>\n",
       "<table border=\"1\" class=\"dataframe\">\n",
       "  <thead>\n",
       "    <tr style=\"text-align: right;\">\n",
       "      <th></th>\n",
       "      <th>色泽</th>\n",
       "      <th>根蒂</th>\n",
       "      <th>敲声</th>\n",
       "      <th>纹理</th>\n",
       "      <th>脐部</th>\n",
       "      <th>触感</th>\n",
       "      <th>好瓜</th>\n",
       "    </tr>\n",
       "  </thead>\n",
       "  <tbody>\n",
       "    <tr>\n",
       "      <th>0</th>\n",
       "      <td>青绿</td>\n",
       "      <td>蜷缩</td>\n",
       "      <td>浊响</td>\n",
       "      <td>清晰</td>\n",
       "      <td>凹陷</td>\n",
       "      <td>硬滑</td>\n",
       "      <td>是</td>\n",
       "    </tr>\n",
       "    <tr>\n",
       "      <th>1</th>\n",
       "      <td>乌黑</td>\n",
       "      <td>蜷缩</td>\n",
       "      <td>沉闷</td>\n",
       "      <td>清晰</td>\n",
       "      <td>凹陷</td>\n",
       "      <td>硬滑</td>\n",
       "      <td>是</td>\n",
       "    </tr>\n",
       "    <tr>\n",
       "      <th>2</th>\n",
       "      <td>乌黑</td>\n",
       "      <td>蜷缩</td>\n",
       "      <td>浊响</td>\n",
       "      <td>清晰</td>\n",
       "      <td>凹陷</td>\n",
       "      <td>硬滑</td>\n",
       "      <td>是</td>\n",
       "    </tr>\n",
       "    <tr>\n",
       "      <th>3</th>\n",
       "      <td>青绿</td>\n",
       "      <td>蜷缩</td>\n",
       "      <td>沉闷</td>\n",
       "      <td>清晰</td>\n",
       "      <td>凹陷</td>\n",
       "      <td>硬滑</td>\n",
       "      <td>是</td>\n",
       "    </tr>\n",
       "    <tr>\n",
       "      <th>4</th>\n",
       "      <td>浅白</td>\n",
       "      <td>蜷缩</td>\n",
       "      <td>浊响</td>\n",
       "      <td>清晰</td>\n",
       "      <td>凹陷</td>\n",
       "      <td>硬滑</td>\n",
       "      <td>是</td>\n",
       "    </tr>\n",
       "  </tbody>\n",
       "</table>\n",
       "</div>"
      ],
      "text/plain": [
       "   色泽  根蒂  敲声  纹理  脐部  触感 好瓜\n",
       "0  青绿  蜷缩  浊响  清晰  凹陷  硬滑  是\n",
       "1  乌黑  蜷缩  沉闷  清晰  凹陷  硬滑  是\n",
       "2  乌黑  蜷缩  浊响  清晰  凹陷  硬滑  是\n",
       "3  青绿  蜷缩  沉闷  清晰  凹陷  硬滑  是\n",
       "4  浅白  蜷缩  浊响  清晰  凹陷  硬滑  是"
      ]
     },
     "execution_count": 7,
     "metadata": {},
     "output_type": "execute_result"
    }
   ],
   "source": [
    "import pandas as pd\n",
    "\n",
    "#           [\"色泽\", \"根蒂\", \"敲声\", \"纹理\", \"脐部\", \"触感\", \"好瓜\"],\n",
    "datasets = pd.DataFrame([[\"青绿\", \"蜷缩\", \"浊响\", \"清晰\", \"凹陷\", \"硬滑\", \"是\"],\n",
    "                         [\"乌黑\", \"蜷缩\", \"沉闷\", \"清晰\", \"凹陷\", \"硬滑\", \"是\"],\n",
    "                         [\"乌黑\", \"蜷缩\", \"浊响\", \"清晰\", \"凹陷\", \"硬滑\", \"是\"],\n",
    "                         [\"青绿\", \"蜷缩\", \"沉闷\", \"清晰\", \"凹陷\", \"硬滑\", \"是\"],\n",
    "                         [\"浅白\", \"蜷缩\", \"浊响\", \"清晰\", \"凹陷\", \"硬滑\", \"是\"],\n",
    "                         [\"青绿\", \"稍蜷\", \"浊响\", \"清晰\", \"稍凹\", \"软粘\", \"是\"],\n",
    "                         [\"乌黑\", \"稍蜷\", \"浊响\", \"稍糊\", \"稍凹\", \"软粘\", \"是\"],\n",
    "                         [\"乌黑\", \"稍蜷\", \"浊响\", \"清晰\", \"稍凹\", \"硬滑\", \"是\"],\n",
    "                         [\"乌黑\", \"稍蜷\", \"沉闷\", \"稍糊\", \"稍凹\", \"硬滑\", \"否\"],\n",
    "                         [\"青绿\", \"硬挺\", \"清脆\", \"清晰\", \"平坦\", \"软粘\", \"否\"],\n",
    "                         [\"浅白\", \"硬挺\", \"清脆\", \"模糊\", \"平坦\", \"硬滑\", \"否\"],\n",
    "                         [\"浅白\", \"蜷缩\", \"浊响\", \"模糊\", \"平坦\", \"软粘\", \"否\"],\n",
    "                         [\"青绿\", \"稍蜷\", \"浊响\", \"稍糊\", \"凹陷\", \"硬滑\", \"否\"],\n",
    "                         [\"浅白\", \"稍蜷\", \"沉闷\", \"稍糊\", \"凹陷\", \"硬滑\", \"否\"],\n",
    "                         [\"乌黑\", \"稍蜷\", \"浊响\", \"清晰\", \"稍凹\", \"软粘\", \"否\"],\n",
    "                         [\"浅白\", \"蜷缩\", \"浊响\", \"模糊\", \"平坦\", \"硬滑\", \"否\"],\n",
    "                         [\"青绿\", \"蜷缩\", \"沉闷\", \"稍糊\", \"稍凹\", \"硬滑\", \"否\"]],\n",
    "                        columns=[\"色泽\", \"根蒂\", \"敲声\", \"纹理\", \"脐部\", \"触感\", \"好瓜\"])\n",
    "datasets.head()"
   ]
  },
  {
   "cell_type": "code",
   "execution_count": 11,
   "metadata": {},
   "outputs": [
    {
     "name": "stdout",
     "output_type": "stream",
     "text": [
      "{'青绿': 0.5, '乌黑': 0.67, '浅白': 0.2, '蜷缩': 0.62, '稍蜷': 0.43, '硬挺': 2.5, '浊响': 0.6, '沉闷': 0.4, '清脆': 2.5, '清晰': 0.78, '稍糊': 0.2, '模糊': 2.33, '凹陷': 0.71, '稍凹': 0.5, '平坦': 2.25, '硬滑': 0.5, '软粘': 0.4}\n"
     ]
    }
   ],
   "source": [
    "dic = {}\n",
    "for j in datasets.columns.to_list()[0:-1]:\n",
    "    for i in datasets[j].unique():\n",
    "        if \"是\" in datasets.groupby(j)[\"好瓜\"].value_counts()[i]:\n",
    "            dic[i] = round(datasets.groupby(j)[\"好瓜\"].value_counts()[i][\"是\"] / datasets[j].value_counts()[i], 2)\n",
    "        else:\n",
    "            dic[i] = round(1/datasets.groupby(j)[\"好瓜\"].value_counts()[i][\"否\"]+2, 2)\n",
    "#             print(datasets.groupby(j)[\"好瓜\"].value_counts()[i])\n",
    "print(dic)"
   ]
  },
  {
   "cell_type": "code",
   "execution_count": null,
   "metadata": {},
   "outputs": [],
   "source": []
  }
 ],
 "metadata": {
  "kernelspec": {
   "display_name": "Python 3",
   "language": "python",
   "name": "python3"
  },
  "language_info": {
   "codemirror_mode": {
    "name": "ipython",
    "version": 3
   },
   "file_extension": ".py",
   "mimetype": "text/x-python",
   "name": "python",
   "nbconvert_exporter": "python",
   "pygments_lexer": "ipython3",
   "version": "3.8.5"
  }
 },
 "nbformat": 4,
 "nbformat_minor": 4
}
